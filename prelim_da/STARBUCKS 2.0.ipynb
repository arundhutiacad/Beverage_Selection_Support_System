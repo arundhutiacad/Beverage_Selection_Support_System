{
 "nbformat": 4,
 "nbformat_minor": 0,
 "metadata": {
  "colab": {
   "provenance": [],
   "authorship_tag": "ABX9TyO3sR6MCle/RRkGuXGnWtzo"
  },
  "kernelspec": {
   "name": "python3",
   "language": "python",
   "display_name": "Python 3 (ipykernel)"
  },
  "language_info": {
   "name": "python"
  }
 },
 "cells": [
  {
   "cell_type": "code",
   "source": [
    "import pandas as pd\n",
    "import numpy as np\n",
    "import seaborn as sns\n",
    "import matplotlib.pyplot as plt\n",
    "%matplotlib inline\n",
    "\n",
    "\n",
    "#importing libraries for machine learning\n",
    "from sklearn import preprocessing\n",
    "from sklearn.preprocessing import StandardScaler\n",
    "from sklearn.model_selection import train_test_split\n",
    "from sklearn.metrics import classification_report\n",
    "from sklearn.metrics import confusion_matrix\n",
    "from sklearn.metrics import accuracy_score\n",
    "from sklearn.ensemble import RandomForestClassifier\n",
    "from sklearn import metrics"
   ],
   "metadata": {
    "id": "fYhg7EI4oO_D",
    "ExecuteTime": {
     "end_time": "2023-07-19T04:12:06.257532Z",
     "start_time": "2023-07-19T04:12:06.225410Z"
    }
   },
   "execution_count": 12,
   "outputs": []
  },
  {
   "cell_type": "code",
   "source": [
    "df = pd.read_csv(\"/Users/raj/Code/starbucks/starbucks_drinkMenu_expanded.csv\")\n",
    "df.head()"
   ],
   "metadata": {
    "colab": {
     "base_uri": "https://localhost:8080/",
     "height": 354
    },
    "id": "tyKfZ1NdoUoh",
    "executionInfo": {
     "status": "ok",
     "timestamp": 1686649864223,
     "user_tz": -330,
     "elapsed": 21,
     "user": {
      "displayName": "ARUNDHUTI CHAKRABORTY 22MSD7046",
      "userId": "15028378748088300665"
     }
    },
    "outputId": "53c24d7b-9385-4dd8-b29f-fb1f79f7cc95",
    "ExecuteTime": {
     "end_time": "2023-07-19T04:12:06.283502Z",
     "start_time": "2023-07-19T04:12:06.238628Z"
    }
   },
   "execution_count": 13,
   "outputs": [
    {
     "data": {
      "text/plain": "         Beverage_category       Beverage      Beverage_prep  Calories  \\\n0                   Coffee  Brewed Coffee              Short         3   \n1                   Coffee  Brewed Coffee               Tall         4   \n2                   Coffee  Brewed Coffee             Grande         5   \n3                   Coffee  Brewed Coffee              Venti         5   \n4  Classic Espresso Drinks    Caffè Latte  Short Nonfat Milk        70   \n\n    Total Fat (g)  Trans Fat (g)   Saturated Fat (g)   Sodium (mg)  \\\n0             0.1             0.0                0.0             0   \n1             0.1             0.0                0.0             0   \n2             0.1             0.0                0.0             0   \n3             0.1             0.0                0.0             0   \n4             0.1             0.1                0.0             5   \n\n    Total Carbohydrates (g)   Cholesterol (mg)   Dietary Fibre (g)  \\\n0                          5                 0                   0   \n1                         10                 0                   0   \n2                         10                 0                   0   \n3                         10                 0                   0   \n4                         75                10                   0   \n\n    Sugars (g)   Protein (g)  Caffeine (mg)  \n0            0            0.3           175  \n1            0            0.5           260  \n2            0            1.0           330  \n3            0            1.0           410  \n4            9            6.0            75  ",
      "text/html": "<div>\n<style scoped>\n    .dataframe tbody tr th:only-of-type {\n        vertical-align: middle;\n    }\n\n    .dataframe tbody tr th {\n        vertical-align: top;\n    }\n\n    .dataframe thead th {\n        text-align: right;\n    }\n</style>\n<table border=\"1\" class=\"dataframe\">\n  <thead>\n    <tr style=\"text-align: right;\">\n      <th></th>\n      <th>Beverage_category</th>\n      <th>Beverage</th>\n      <th>Beverage_prep</th>\n      <th>Calories</th>\n      <th>Total Fat (g)</th>\n      <th>Trans Fat (g)</th>\n      <th>Saturated Fat (g)</th>\n      <th>Sodium (mg)</th>\n      <th>Total Carbohydrates (g)</th>\n      <th>Cholesterol (mg)</th>\n      <th>Dietary Fibre (g)</th>\n      <th>Sugars (g)</th>\n      <th>Protein (g)</th>\n      <th>Caffeine (mg)</th>\n    </tr>\n  </thead>\n  <tbody>\n    <tr>\n      <th>0</th>\n      <td>Coffee</td>\n      <td>Brewed Coffee</td>\n      <td>Short</td>\n      <td>3</td>\n      <td>0.1</td>\n      <td>0.0</td>\n      <td>0.0</td>\n      <td>0</td>\n      <td>5</td>\n      <td>0</td>\n      <td>0</td>\n      <td>0</td>\n      <td>0.3</td>\n      <td>175</td>\n    </tr>\n    <tr>\n      <th>1</th>\n      <td>Coffee</td>\n      <td>Brewed Coffee</td>\n      <td>Tall</td>\n      <td>4</td>\n      <td>0.1</td>\n      <td>0.0</td>\n      <td>0.0</td>\n      <td>0</td>\n      <td>10</td>\n      <td>0</td>\n      <td>0</td>\n      <td>0</td>\n      <td>0.5</td>\n      <td>260</td>\n    </tr>\n    <tr>\n      <th>2</th>\n      <td>Coffee</td>\n      <td>Brewed Coffee</td>\n      <td>Grande</td>\n      <td>5</td>\n      <td>0.1</td>\n      <td>0.0</td>\n      <td>0.0</td>\n      <td>0</td>\n      <td>10</td>\n      <td>0</td>\n      <td>0</td>\n      <td>0</td>\n      <td>1.0</td>\n      <td>330</td>\n    </tr>\n    <tr>\n      <th>3</th>\n      <td>Coffee</td>\n      <td>Brewed Coffee</td>\n      <td>Venti</td>\n      <td>5</td>\n      <td>0.1</td>\n      <td>0.0</td>\n      <td>0.0</td>\n      <td>0</td>\n      <td>10</td>\n      <td>0</td>\n      <td>0</td>\n      <td>0</td>\n      <td>1.0</td>\n      <td>410</td>\n    </tr>\n    <tr>\n      <th>4</th>\n      <td>Classic Espresso Drinks</td>\n      <td>Caffè Latte</td>\n      <td>Short Nonfat Milk</td>\n      <td>70</td>\n      <td>0.1</td>\n      <td>0.1</td>\n      <td>0.0</td>\n      <td>5</td>\n      <td>75</td>\n      <td>10</td>\n      <td>0</td>\n      <td>9</td>\n      <td>6.0</td>\n      <td>75</td>\n    </tr>\n  </tbody>\n</table>\n</div>"
     },
     "execution_count": 13,
     "metadata": {},
     "output_type": "execute_result"
    }
   ]
  },
  {
   "cell_type": "code",
   "source": [
    "df.info()"
   ],
   "metadata": {
    "colab": {
     "base_uri": "https://localhost:8080/"
    },
    "id": "y-Meddm7pKSy",
    "executionInfo": {
     "status": "ok",
     "timestamp": 1686649864223,
     "user_tz": -330,
     "elapsed": 19,
     "user": {
      "displayName": "ARUNDHUTI CHAKRABORTY 22MSD7046",
      "userId": "15028378748088300665"
     }
    },
    "outputId": "da0cebff-a6f9-4d2b-b789-b2e46a0f3c6b",
    "ExecuteTime": {
     "end_time": "2023-07-19T04:12:06.283916Z",
     "start_time": "2023-07-19T04:12:06.248880Z"
    }
   },
   "execution_count": 14,
   "outputs": [
    {
     "name": "stdout",
     "output_type": "stream",
     "text": [
      "<class 'pandas.core.frame.DataFrame'>\n",
      "RangeIndex: 242 entries, 0 to 241\n",
      "Data columns (total 14 columns):\n",
      " #   Column                     Non-Null Count  Dtype  \n",
      "---  ------                     --------------  -----  \n",
      " 0   Beverage_category          242 non-null    object \n",
      " 1   Beverage                   242 non-null    object \n",
      " 2   Beverage_prep              242 non-null    object \n",
      " 3   Calories                   242 non-null    int64  \n",
      " 4    Total Fat (g)             242 non-null    float64\n",
      " 5   Trans Fat (g)              242 non-null    float64\n",
      " 6   Saturated Fat (g)          242 non-null    float64\n",
      " 7    Sodium (mg)               242 non-null    int64  \n",
      " 8    Total Carbohydrates (g)   242 non-null    int64  \n",
      " 9   Cholesterol (mg)           242 non-null    int64  \n",
      " 10   Dietary Fibre (g)         242 non-null    int64  \n",
      " 11   Sugars (g)                242 non-null    int64  \n",
      " 12   Protein (g)               242 non-null    float64\n",
      " 13  Caffeine (mg)              241 non-null    object \n",
      "dtypes: float64(4), int64(6), object(4)\n",
      "memory usage: 26.6+ KB\n"
     ]
    }
   ]
  },
  {
   "cell_type": "code",
   "source": [
    "df = df.dropna()"
   ],
   "metadata": {
    "id": "rUhK-cJ_9cZZ",
    "ExecuteTime": {
     "end_time": "2023-07-19T04:12:06.284300Z",
     "start_time": "2023-07-19T04:12:06.257865Z"
    }
   },
   "execution_count": 15,
   "outputs": []
  },
  {
   "cell_type": "code",
   "source": [
    "import statsmodels.api as sm\n",
    "import statsmodels.formula.api as smf"
   ],
   "metadata": {
    "colab": {
     "base_uri": "https://localhost:8080/",
     "height": 112
    },
    "id": "cwksJWql3nng",
    "executionInfo": {
     "status": "ok",
     "timestamp": 1686649864227,
     "user_tz": -330,
     "elapsed": 20,
     "user": {
      "displayName": "ARUNDHUTI CHAKRABORTY 22MSD7046",
      "userId": "15028378748088300665"
     }
    },
    "outputId": "9cb676aa-bbe8-47fe-8994-c4aa4adaf2cc",
    "ExecuteTime": {
     "end_time": "2023-07-19T04:12:06.284445Z",
     "start_time": "2023-07-19T04:12:06.264219Z"
    }
   },
   "execution_count": 16,
   "outputs": []
  },
  {
   "cell_type": "code",
   "execution_count": 17,
   "outputs": [
    {
     "data": {
      "text/plain": "                     sum_sq     df         F        PR(>F)\nBeverage_prep  8.437392e+05   12.0  9.455535  8.147053e-15\nResidual       1.695414e+06  228.0       NaN           NaN",
      "text/html": "<div>\n<style scoped>\n    .dataframe tbody tr th:only-of-type {\n        vertical-align: middle;\n    }\n\n    .dataframe tbody tr th {\n        vertical-align: top;\n    }\n\n    .dataframe thead th {\n        text-align: right;\n    }\n</style>\n<table border=\"1\" class=\"dataframe\">\n  <thead>\n    <tr style=\"text-align: right;\">\n      <th></th>\n      <th>sum_sq</th>\n      <th>df</th>\n      <th>F</th>\n      <th>PR(&gt;F)</th>\n    </tr>\n  </thead>\n  <tbody>\n    <tr>\n      <th>Beverage_prep</th>\n      <td>8.437392e+05</td>\n      <td>12.0</td>\n      <td>9.455535</td>\n      <td>8.147053e-15</td>\n    </tr>\n    <tr>\n      <th>Residual</th>\n      <td>1.695414e+06</td>\n      <td>228.0</td>\n      <td>NaN</td>\n      <td>NaN</td>\n    </tr>\n  </tbody>\n</table>\n</div>"
     },
     "execution_count": 17,
     "metadata": {},
     "output_type": "execute_result"
    }
   ],
   "source": [
    "model = smf.ols('Calories ~ Beverage_prep', data=df).fit()\n",
    "sm.stats.anova_lm(model, typ=2)"
   ],
   "metadata": {
    "collapsed": false,
    "ExecuteTime": {
     "end_time": "2023-07-19T04:12:06.284653Z",
     "start_time": "2023-07-19T04:12:06.271211Z"
    }
   }
  },
  {
   "cell_type": "markdown",
   "source": [
    "DEPENDENT"
   ],
   "metadata": {
    "id": "_Dac-P9Y5H42"
   }
  },
  {
   "cell_type": "code",
   "source": [
    "df[\"Beverage_prep\"].unique()"
   ],
   "metadata": {
    "colab": {
     "base_uri": "https://localhost:8080/"
    },
    "id": "_-_HBcsUNlv0",
    "executionInfo": {
     "status": "ok",
     "timestamp": 1686649864228,
     "user_tz": -330,
     "elapsed": 19,
     "user": {
      "displayName": "ARUNDHUTI CHAKRABORTY 22MSD7046",
      "userId": "15028378748088300665"
     }
    },
    "outputId": "f83cfeb0-2118-4dba-c212-8e6ba06dd6ef",
    "ExecuteTime": {
     "end_time": "2023-07-19T04:12:06.289799Z",
     "start_time": "2023-07-19T04:12:06.280963Z"
    }
   },
   "execution_count": 18,
   "outputs": [
    {
     "data": {
      "text/plain": "array(['Short', 'Tall', 'Grande', 'Venti', 'Short Nonfat Milk', '2% Milk',\n       'Soymilk', 'Tall Nonfat Milk', 'Grande Nonfat Milk',\n       'Venti Nonfat Milk', 'Solo', 'Doppio', 'Whole Milk'], dtype=object)"
     },
     "execution_count": 18,
     "metadata": {},
     "output_type": "execute_result"
    }
   ]
  },
  {
   "cell_type": "code",
   "source": [
    "df_short=df.loc[df.Beverage_prep == 'Short']\n",
    "df_tall=df.loc[df.Beverage_prep == 'Tall']\n"
   ],
   "metadata": {
    "id": "s-C6HGH75HVf",
    "ExecuteTime": {
     "end_time": "2023-07-19T04:12:06.293626Z",
     "start_time": "2023-07-19T04:12:06.290037Z"
    }
   },
   "execution_count": 19,
   "outputs": []
  },
  {
   "cell_type": "code",
   "source": [
    "correlation_matrix = df.corr()"
   ],
   "metadata": {
    "colab": {
     "base_uri": "https://localhost:8080/"
    },
    "id": "W3VK6h12Cg0s",
    "executionInfo": {
     "status": "ok",
     "timestamp": 1686649864229,
     "user_tz": -330,
     "elapsed": 16,
     "user": {
      "displayName": "ARUNDHUTI CHAKRABORTY 22MSD7046",
      "userId": "15028378748088300665"
     }
    },
    "outputId": "f198dafc-0ae8-42bb-d826-b4f45812f357",
    "ExecuteTime": {
     "end_time": "2023-07-19T04:12:06.299841Z",
     "start_time": "2023-07-19T04:12:06.294447Z"
    }
   },
   "execution_count": 20,
   "outputs": [
    {
     "name": "stderr",
     "output_type": "stream",
     "text": [
      "/var/folders/2l/q8wm67_x5yn9qtfylfw_gktc0000gn/T/ipykernel_71753/3450543936.py:1: FutureWarning: The default value of numeric_only in DataFrame.corr is deprecated. In a future version, it will default to False. Select only valid columns or specify the value of numeric_only to silence this warning.\n",
      "  correlation_matrix = df.corr()\n"
     ]
    }
   ]
  },
  {
   "cell_type": "code",
   "source": [
    "sns.heatmap(correlation_matrix, annot=True, cmap='coolwarm')\n",
    "plt.show()"
   ],
   "metadata": {
    "id": "xYEoh3r3EDec",
    "colab": {
     "base_uri": "https://localhost:8080/",
     "height": 594
    },
    "executionInfo": {
     "status": "ok",
     "timestamp": 1686649866532,
     "user_tz": -330,
     "elapsed": 2317,
     "user": {
      "displayName": "ARUNDHUTI CHAKRABORTY 22MSD7046",
      "userId": "15028378748088300665"
     }
    },
    "outputId": "4e52bc22-e729-474c-d1e0-842f6de0d029",
    "ExecuteTime": {
     "end_time": "2023-07-19T04:12:06.544944Z",
     "start_time": "2023-07-19T04:12:06.308363Z"
    }
   },
   "execution_count": 21,
   "outputs": [
    {
     "data": {
      "text/plain": "<Figure size 640x480 with 2 Axes>",
      "image/png": "[encoded data removed]"
     },
     "metadata": {},
     "output_type": "display_data"
    }
   ]
  },
  {
   "cell_type": "code",
   "source": [
    "df.head(1)"
   ],
   "metadata": {
    "colab": {
     "base_uri": "https://localhost:8080/",
     "height": 159
    },
    "id": "jYy5xXJTFWAE",
    "executionInfo": {
     "status": "ok",
     "timestamp": 1686649866533,
     "user_tz": -330,
     "elapsed": 40,
     "user": {
      "displayName": "ARUNDHUTI CHAKRABORTY 22MSD7046",
      "userId": "15028378748088300665"
     }
    },
    "outputId": "93c71f68-f2ac-4d3d-bf66-f1999b54fb9d",
    "ExecuteTime": {
     "end_time": "2023-07-19T04:12:06.551072Z",
     "start_time": "2023-07-19T04:12:06.547279Z"
    }
   },
   "execution_count": 22,
   "outputs": [
    {
     "data": {
      "text/plain": "  Beverage_category       Beverage Beverage_prep  Calories   Total Fat (g)  \\\n0            Coffee  Brewed Coffee         Short         3             0.1   \n\n   Trans Fat (g)   Saturated Fat (g)   Sodium (mg)   Total Carbohydrates (g)   \\\n0             0.0                0.0             0                          5   \n\n   Cholesterol (mg)   Dietary Fibre (g)   Sugars (g)   Protein (g)   \\\n0                 0                   0            0            0.3   \n\n  Caffeine (mg)  \n0           175  ",
      "text/html": "<div>\n<style scoped>\n    .dataframe tbody tr th:only-of-type {\n        vertical-align: middle;\n    }\n\n    .dataframe tbody tr th {\n        vertical-align: top;\n    }\n\n    .dataframe thead th {\n        text-align: right;\n    }\n</style>\n<table border=\"1\" class=\"dataframe\">\n  <thead>\n    <tr style=\"text-align: right;\">\n      <th></th>\n      <th>Beverage_category</th>\n      <th>Beverage</th>\n      <th>Beverage_prep</th>\n      <th>Calories</th>\n      <th>Total Fat (g)</th>\n      <th>Trans Fat (g)</th>\n      <th>Saturated Fat (g)</th>\n      <th>Sodium (mg)</th>\n      <th>Total Carbohydrates (g)</th>\n      <th>Cholesterol (mg)</th>\n      <th>Dietary Fibre (g)</th>\n      <th>Sugars (g)</th>\n      <th>Protein (g)</th>\n      <th>Caffeine (mg)</th>\n    </tr>\n  </thead>\n  <tbody>\n    <tr>\n      <th>0</th>\n      <td>Coffee</td>\n      <td>Brewed Coffee</td>\n      <td>Short</td>\n      <td>3</td>\n      <td>0.1</td>\n      <td>0.0</td>\n      <td>0.0</td>\n      <td>0</td>\n      <td>5</td>\n      <td>0</td>\n      <td>0</td>\n      <td>0</td>\n      <td>0.3</td>\n      <td>175</td>\n    </tr>\n  </tbody>\n</table>\n</div>"
     },
     "execution_count": 22,
     "metadata": {},
     "output_type": "execute_result"
    }
   ]
  },
  {
   "cell_type": "code",
   "source": [
    "df.columns"
   ],
   "metadata": {
    "colab": {
     "base_uri": "https://localhost:8080/"
    },
    "id": "qoGw1ZxqKVFu",
    "executionInfo": {
     "status": "ok",
     "timestamp": 1686649866534,
     "user_tz": -330,
     "elapsed": 38,
     "user": {
      "displayName": "ARUNDHUTI CHAKRABORTY 22MSD7046",
      "userId": "15028378748088300665"
     }
    },
    "outputId": "0d8c0aee-6337-4a02-b22d-afb9137fcc1f",
    "ExecuteTime": {
     "end_time": "2023-07-19T04:12:06.556955Z",
     "start_time": "2023-07-19T04:12:06.553406Z"
    }
   },
   "execution_count": 23,
   "outputs": [
    {
     "data": {
      "text/plain": "Index(['Beverage_category', 'Beverage', 'Beverage_prep', 'Calories',\n       ' Total Fat (g)', 'Trans Fat (g) ', 'Saturated Fat (g)', ' Sodium (mg)',\n       ' Total Carbohydrates (g) ', 'Cholesterol (mg)', ' Dietary Fibre (g)',\n       ' Sugars (g)', ' Protein (g) ', 'Caffeine (mg)'],\n      dtype='object')"
     },
     "execution_count": 23,
     "metadata": {},
     "output_type": "execute_result"
    }
   ]
  },
  {
   "cell_type": "code",
   "source": [
    "x = df[['Saturated Fat (g)',\" Dietary Fibre (g)\",' Sodium (mg)',\"Calories\",\" Protein (g) \"]]\n",
    "y=df[\"Beverage_prep\"]"
   ],
   "metadata": {
    "id": "OxgwHYt1TEeX",
    "ExecuteTime": {
     "end_time": "2023-07-19T04:12:06.564294Z",
     "start_time": "2023-07-19T04:12:06.562605Z"
    }
   },
   "execution_count": 24,
   "outputs": []
  },
  {
   "cell_type": "code",
   "source": [
    "x_train, x_test, y_train, y_test= train_test_split(x, y, test_size= 0.2, random_state=42)"
   ],
   "metadata": {
    "id": "2JT_deSwdn6J",
    "ExecuteTime": {
     "end_time": "2023-07-19T04:12:06.620636Z",
     "start_time": "2023-07-19T04:12:06.569381Z"
    }
   },
   "execution_count": 25,
   "outputs": []
  },
  {
   "cell_type": "code",
   "source": [
    "st_x= StandardScaler()\n",
    "x_train= st_x.fit_transform(x_train)\n",
    "x_test= st_x.transform(x_test)"
   ],
   "metadata": {
    "id": "cZhmGWMQdpN5",
    "ExecuteTime": {
     "end_time": "2023-07-19T04:12:06.620943Z",
     "start_time": "2023-07-19T04:12:06.572454Z"
    }
   },
   "execution_count": 26,
   "outputs": []
  },
  {
   "cell_type": "code",
   "source": [
    "classifier= RandomForestClassifier(n_estimators= 75, criterion=\"entropy\")\n",
    "classifier.fit(x_train, y_train)"
   ],
   "metadata": {
    "colab": {
     "base_uri": "https://localhost:8080/",
     "height": 74
    },
    "id": "az4LJ0kndtRL",
    "executionInfo": {
     "status": "ok",
     "timestamp": 1686649866537,
     "user_tz": -330,
     "elapsed": 36,
     "user": {
      "displayName": "ARUNDHUTI CHAKRABORTY 22MSD7046",
      "userId": "15028378748088300665"
     }
    },
    "outputId": "98446987-fc34-4857-b8f4-292229676614",
    "ExecuteTime": {
     "end_time": "2023-07-19T04:12:06.689024Z",
     "start_time": "2023-07-19T04:12:06.601327Z"
    }
   },
   "execution_count": 27,
   "outputs": [
    {
     "data": {
      "text/plain": "RandomForestClassifier(criterion='entropy', n_estimators=75)",
      "text/html": "<style>#sk-container-id-1 {color: black;background-color: white;}#sk-container-id-1 pre{padding: 0;}#sk-container-id-1 div.sk-toggleable {background-color: white;}#sk-container-id-1 label.sk-toggleable__label {cursor: pointer;display: block;width: 100%;margin-bottom: 0;padding: 0.3em;box-sizing: border-box;text-align: center;}#sk-container-id-1 label.sk-toggleable__label-arrow:before {content: \"▸\";float: left;margin-right: 0.25em;color: #696969;}#sk-container-id-1 label.sk-toggleable__label-arrow:hover:before {color: black;}#sk-container-id-1 div.sk-estimator:hover label.sk-toggleable__label-arrow:before {color: black;}#sk-container-id-1 div.sk-toggleable__content {max-height: 0;max-width: 0;overflow: hidden;text-align: left;background-color: #f0f8ff;}#sk-container-id-1 div.sk-toggleable__content pre {margin: 0.2em;color: black;border-radius: 0.25em;background-color: #f0f8ff;}#sk-container-id-1 input.sk-toggleable__control:checked~div.sk-toggleable__content {max-height: 200px;max-width: 100%;overflow: auto;}#sk-container-id-1 input.sk-toggleable__control:checked~label.sk-toggleable__label-arrow:before {content: \"▾\";}#sk-container-id-1 div.sk-estimator input.sk-toggleable__control:checked~label.sk-toggleable__label {background-color: #d4ebff;}#sk-container-id-1 div.sk-label input.sk-toggleable__control:checked~label.sk-toggleable__label {background-color: #d4ebff;}#sk-container-id-1 input.sk-hidden--visually {border: 0;clip: rect(1px 1px 1px 1px);clip: rect(1px, 1px, 1px, 1px);height: 1px;margin: -1px;overflow: hidden;padding: 0;position: absolute;width: 1px;}#sk-container-id-1 div.sk-estimator {font-family: monospace;background-color: #f0f8ff;border: 1px dotted black;border-radius: 0.25em;box-sizing: border-box;margin-bottom: 0.5em;}#sk-container-id-1 div.sk-estimator:hover {background-color: #d4ebff;}#sk-container-id-1 div.sk-parallel-item::after {content: \"\";width: 100%;border-bottom: 1px solid gray;flex-grow: 1;}#sk-container-id-1 div.sk-label:hover label.sk-toggleable__label {background-color: #d4ebff;}#sk-container-id-1 div.sk-serial::before {content: \"\";position: absolute;border-left: 1px solid gray;box-sizing: border-box;top: 0;bottom: 0;left: 50%;z-index: 0;}#sk-container-id-1 div.sk-serial {display: flex;flex-direction: column;align-items: center;background-color: white;padding-right: 0.2em;padding-left: 0.2em;position: relative;}#sk-container-id-1 div.sk-item {position: relative;z-index: 1;}#sk-container-id-1 div.sk-parallel {display: flex;align-items: stretch;justify-content: center;background-color: white;position: relative;}#sk-container-id-1 div.sk-item::before, #sk-container-id-1 div.sk-parallel-item::before {content: \"\";position: absolute;border-left: 1px solid gray;box-sizing: border-box;top: 0;bottom: 0;left: 50%;z-index: -1;}#sk-container-id-1 div.sk-parallel-item {display: flex;flex-direction: column;z-index: 1;position: relative;background-color: white;}#sk-container-id-1 div.sk-parallel-item:first-child::after {align-self: flex-end;width: 50%;}#sk-container-id-1 div.sk-parallel-item:last-child::after {align-self: flex-start;width: 50%;}#sk-container-id-1 div.sk-parallel-item:only-child::after {width: 0;}#sk-container-id-1 div.sk-dashed-wrapped {border: 1px dashed gray;margin: 0 0.4em 0.5em 0.4em;box-sizing: border-box;padding-bottom: 0.4em;background-color: white;}#sk-container-id-1 div.sk-label label {font-family: monospace;font-weight: bold;display: inline-block;line-height: 1.2em;}#sk-container-id-1 div.sk-label-container {text-align: center;}#sk-container-id-1 div.sk-container {/* jupyter's `normalize.less` sets `[hidden] { display: none; }` but bootstrap.min.css set `[hidden] { display: none !important; }` so we also need the `!important` here to be able to override the default hidden behavior on the sphinx rendered scikit-learn.org. See: https://github.com/scikit-learn/scikit-learn/issues/21755 */display: inline-block !important;position: relative;}#sk-container-id-1 div.sk-text-repr-fallback {display: none;}</style><div id=\"sk-container-id-1\" class=\"sk-top-container\"><div class=\"sk-text-repr-fallback\"><pre>RandomForestClassifier(criterion=&#x27;entropy&#x27;, n_estimators=75)</pre><b>In a Jupyter environment, please rerun this cell to show the HTML representation or trust the notebook. <br />On GitHub, the HTML representation is unable to render, please try loading this page with nbviewer.org.</b></div><div class=\"sk-container\" hidden><div class=\"sk-item\"><div class=\"sk-estimator sk-toggleable\"><input class=\"sk-toggleable__control sk-hidden--visually\" id=\"sk-estimator-id-1\" type=\"checkbox\" checked><label for=\"sk-estimator-id-1\" class=\"sk-toggleable__label sk-toggleable__label-arrow\">RandomForestClassifier</label><div class=\"sk-toggleable__content\"><pre>RandomForestClassifier(criterion=&#x27;entropy&#x27;, n_estimators=75)</pre></div></div></div></div></div>"
     },
     "execution_count": 27,
     "metadata": {},
     "output_type": "execute_result"
    }
   ]
  },
  {
   "cell_type": "code",
   "source": [
    "y_pred= classifier.predict(x_test)\n"
   ],
   "metadata": {
    "id": "Fls0FFf0dw3s",
    "ExecuteTime": {
     "end_time": "2023-07-19T04:12:06.689263Z",
     "start_time": "2023-07-19T04:12:06.651855Z"
    }
   },
   "execution_count": 28,
   "outputs": []
  },
  {
   "cell_type": "code",
   "source": [
    "cm= confusion_matrix(y_test, y_pred)"
   ],
   "metadata": {
    "id": "biKGUduLd2Ws",
    "ExecuteTime": {
     "end_time": "2023-07-19T04:12:06.689329Z",
     "start_time": "2023-07-19T04:12:06.655508Z"
    }
   },
   "execution_count": 29,
   "outputs": []
  },
  {
   "cell_type": "code",
   "source": [
    "print(\"Accuracy:\",metrics.accuracy_score(y_test, y_pred))"
   ],
   "metadata": {
    "colab": {
     "base_uri": "https://localhost:8080/"
    },
    "id": "t1vCi-tNd79j",
    "executionInfo": {
     "status": "ok",
     "timestamp": 1686649866540,
     "user_tz": -330,
     "elapsed": 36,
     "user": {
      "displayName": "ARUNDHUTI CHAKRABORTY 22MSD7046",
      "userId": "15028378748088300665"
     }
    },
    "outputId": "4089d557-9c5f-4d4b-e9f3-4a246204283d",
    "ExecuteTime": {
     "end_time": "2023-07-19T04:12:06.689462Z",
     "start_time": "2023-07-19T04:12:06.659753Z"
    }
   },
   "execution_count": 30,
   "outputs": [
    {
     "name": "stdout",
     "output_type": "stream",
     "text": [
      "Accuracy: 0.7551020408163265\n"
     ]
    }
   ]
  },
  {
   "cell_type": "code",
   "source": [
    "from sklearn.svm import SVC\n",
    "from sklearn.model_selection import train_test_split\n",
    "from sklearn.metrics import accuracy_score\n"
   ],
   "metadata": {
    "id": "XubHv7t7-4yj",
    "ExecuteTime": {
     "end_time": "2023-07-19T04:12:06.689674Z",
     "start_time": "2023-07-19T04:12:06.664758Z"
    }
   },
   "execution_count": 31,
   "outputs": []
  },
  {
   "cell_type": "code",
   "source": [
    "svm = SVC()\n",
    "svm.fit(x_train, y_train)\n"
   ],
   "metadata": {
    "colab": {
     "base_uri": "https://localhost:8080/",
     "height": 74
    },
    "id": "qB4phz5C_2rE",
    "executionInfo": {
     "status": "ok",
     "timestamp": 1686649866542,
     "user_tz": -330,
     "elapsed": 35,
     "user": {
      "displayName": "ARUNDHUTI CHAKRABORTY 22MSD7046",
      "userId": "15028378748088300665"
     }
    },
    "outputId": "fb633f54-4ad0-4cd8-fc1e-77ead7cd1a29",
    "ExecuteTime": {
     "end_time": "2023-07-19T04:12:06.689858Z",
     "start_time": "2023-07-19T04:12:06.669325Z"
    }
   },
   "execution_count": 32,
   "outputs": [
    {
     "data": {
      "text/plain": "SVC()",
      "text/html": "<style>#sk-container-id-2 {color: black;background-color: white;}#sk-container-id-2 pre{padding: 0;}#sk-container-id-2 div.sk-toggleable {background-color: white;}#sk-container-id-2 label.sk-toggleable__label {cursor: pointer;display: block;width: 100%;margin-bottom: 0;padding: 0.3em;box-sizing: border-box;text-align: center;}#sk-container-id-2 label.sk-toggleable__label-arrow:before {content: \"▸\";float: left;margin-right: 0.25em;color: #696969;}#sk-container-id-2 label.sk-toggleable__label-arrow:hover:before {color: black;}#sk-container-id-2 div.sk-estimator:hover label.sk-toggleable__label-arrow:before {color: black;}#sk-container-id-2 div.sk-toggleable__content {max-height: 0;max-width: 0;overflow: hidden;text-align: left;background-color: #f0f8ff;}#sk-container-id-2 div.sk-toggleable__content pre {margin: 0.2em;color: black;border-radius: 0.25em;background-color: #f0f8ff;}#sk-container-id-2 input.sk-toggleable__control:checked~div.sk-toggleable__content {max-height: 200px;max-width: 100%;overflow: auto;}#sk-container-id-2 input.sk-toggleable__control:checked~label.sk-toggleable__label-arrow:before {content: \"▾\";}#sk-container-id-2 div.sk-estimator input.sk-toggleable__control:checked~label.sk-toggleable__label {background-color: #d4ebff;}#sk-container-id-2 div.sk-label input.sk-toggleable__control:checked~label.sk-toggleable__label {background-color: #d4ebff;}#sk-container-id-2 input.sk-hidden--visually {border: 0;clip: rect(1px 1px 1px 1px);clip: rect(1px, 1px, 1px, 1px);height: 1px;margin: -1px;overflow: hidden;padding: 0;position: absolute;width: 1px;}#sk-container-id-2 div.sk-estimator {font-family: monospace;background-color: #f0f8ff;border: 1px dotted black;border-radius: 0.25em;box-sizing: border-box;margin-bottom: 0.5em;}#sk-container-id-2 div.sk-estimator:hover {background-color: #d4ebff;}#sk-container-id-2 div.sk-parallel-item::after {content: \"\";width: 100%;border-bottom: 1px solid gray;flex-grow: 1;}#sk-container-id-2 div.sk-label:hover label.sk-toggleable__label {background-color: #d4ebff;}#sk-container-id-2 div.sk-serial::before {content: \"\";position: absolute;border-left: 1px solid gray;box-sizing: border-box;top: 0;bottom: 0;left: 50%;z-index: 0;}#sk-container-id-2 div.sk-serial {display: flex;flex-direction: column;align-items: center;background-color: white;padding-right: 0.2em;padding-left: 0.2em;position: relative;}#sk-container-id-2 div.sk-item {position: relative;z-index: 1;}#sk-container-id-2 div.sk-parallel {display: flex;align-items: stretch;justify-content: center;background-color: white;position: relative;}#sk-container-id-2 div.sk-item::before, #sk-container-id-2 div.sk-parallel-item::before {content: \"\";position: absolute;border-left: 1px solid gray;box-sizing: border-box;top: 0;bottom: 0;left: 50%;z-index: -1;}#sk-container-id-2 div.sk-parallel-item {display: flex;flex-direction: column;z-index: 1;position: relative;background-color: white;}#sk-container-id-2 div.sk-parallel-item:first-child::after {align-self: flex-end;width: 50%;}#sk-container-id-2 div.sk-parallel-item:last-child::after {align-self: flex-start;width: 50%;}#sk-container-id-2 div.sk-parallel-item:only-child::after {width: 0;}#sk-container-id-2 div.sk-dashed-wrapped {border: 1px dashed gray;margin: 0 0.4em 0.5em 0.4em;box-sizing: border-box;padding-bottom: 0.4em;background-color: white;}#sk-container-id-2 div.sk-label label {font-family: monospace;font-weight: bold;display: inline-block;line-height: 1.2em;}#sk-container-id-2 div.sk-label-container {text-align: center;}#sk-container-id-2 div.sk-container {/* jupyter's `normalize.less` sets `[hidden] { display: none; }` but bootstrap.min.css set `[hidden] { display: none !important; }` so we also need the `!important` here to be able to override the default hidden behavior on the sphinx rendered scikit-learn.org. See: https://github.com/scikit-learn/scikit-learn/issues/21755 */display: inline-block !important;position: relative;}#sk-container-id-2 div.sk-text-repr-fallback {display: none;}</style><div id=\"sk-container-id-2\" class=\"sk-top-container\"><div class=\"sk-text-repr-fallback\"><pre>SVC()</pre><b>In a Jupyter environment, please rerun this cell to show the HTML representation or trust the notebook. <br />On GitHub, the HTML representation is unable to render, please try loading this page with nbviewer.org.</b></div><div class=\"sk-container\" hidden><div class=\"sk-item\"><div class=\"sk-estimator sk-toggleable\"><input class=\"sk-toggleable__control sk-hidden--visually\" id=\"sk-estimator-id-2\" type=\"checkbox\" checked><label for=\"sk-estimator-id-2\" class=\"sk-toggleable__label sk-toggleable__label-arrow\">SVC</label><div class=\"sk-toggleable__content\"><pre>SVC()</pre></div></div></div></div></div>"
     },
     "execution_count": 32,
     "metadata": {},
     "output_type": "execute_result"
    }
   ]
  },
  {
   "cell_type": "code",
   "source": [
    "y_pred = svm.predict(x_test)\n"
   ],
   "metadata": {
    "id": "1bOyOmRa_-ZF",
    "ExecuteTime": {
     "end_time": "2023-07-19T04:12:06.690232Z",
     "start_time": "2023-07-19T04:12:06.677977Z"
    }
   },
   "execution_count": 33,
   "outputs": []
  },
  {
   "cell_type": "code",
   "source": [
    "accuracy = accuracy_score(y_test, y_pred)\n",
    "print(\"Accuracy:\", accuracy)\n"
   ],
   "metadata": {
    "colab": {
     "base_uri": "https://localhost:8080/"
    },
    "id": "3gemrHYvACIK",
    "executionInfo": {
     "status": "ok",
     "timestamp": 1686649866545,
     "user_tz": -330,
     "elapsed": 36,
     "user": {
      "displayName": "ARUNDHUTI CHAKRABORTY 22MSD7046",
      "userId": "15028378748088300665"
     }
    },
    "outputId": "2c79c3c4-17b1-4586-bd3d-7d227ac3e314",
    "ExecuteTime": {
     "end_time": "2023-07-19T04:12:06.690355Z",
     "start_time": "2023-07-19T04:12:06.681886Z"
    }
   },
   "execution_count": 34,
   "outputs": [
    {
     "name": "stdout",
     "output_type": "stream",
     "text": [
      "Accuracy: 0.6938775510204082\n"
     ]
    }
   ]
  },
  {
   "cell_type": "code",
   "source": [
    "from sklearn.naive_bayes import GaussianNB\n",
    "from sklearn.metrics import accuracy_score\n",
    "\n",
    "# Create a Naive Bayes classifier\n",
    "naive_bayes = GaussianNB()\n",
    "\n",
    "# Train the model\n",
    "naive_bayes.fit(x_train, y_train)\n",
    "\n",
    "# Make predictions on the test set\n",
    "y_pred = naive_bayes.predict(x_test)\n",
    "\n",
    "# Calculate accuracy\n",
    "accuracy = accuracy_score(y_test, y_pred)\n",
    "print(\"Accuracy:\", accuracy)\n"
   ],
   "metadata": {
    "colab": {
     "base_uri": "https://localhost:8080/"
    },
    "id": "NP2M5jdbAl63",
    "executionInfo": {
     "status": "ok",
     "timestamp": 1686649866546,
     "user_tz": -330,
     "elapsed": 35,
     "user": {
      "displayName": "ARUNDHUTI CHAKRABORTY 22MSD7046",
      "userId": "15028378748088300665"
     }
    },
    "outputId": "16e643eb-a7d3-4750-fa25-dc3bc705cb47",
    "ExecuteTime": {
     "end_time": "2023-07-19T04:12:06.692703Z",
     "start_time": "2023-07-19T04:12:06.686499Z"
    }
   },
   "execution_count": 35,
   "outputs": [
    {
     "name": "stdout",
     "output_type": "stream",
     "text": [
      "Accuracy: 0.5918367346938775\n"
     ]
    }
   ]
  },
  {
   "cell_type": "code",
   "source": [
    "from sklearn.tree import DecisionTreeClassifier\n",
    "from sklearn.metrics import accuracy_score\n",
    "clf = DecisionTreeClassifier()\n",
    "\n",
    "# Fitting the model on the training data\n",
    "clf.fit(x_train, y_train)\n",
    "\n",
    "# Making predictions on the test set\n",
    "y_pred = clf.predict(x_test)\n",
    "\n",
    "# Calculating accuracy\n",
    "accuracy = accuracy_score(y_test, y_pred)\n",
    "print(\"Accuracy:\", accuracy)\n",
    "\n",
    "\n",
    "\n",
    "\n",
    "\n",
    "\n",
    "\n"
   ],
   "metadata": {
    "colab": {
     "base_uri": "https://localhost:8080/"
    },
    "id": "0EYAa_YCB6nf",
    "executionInfo": {
     "status": "ok",
     "timestamp": 1686649866547,
     "user_tz": -330,
     "elapsed": 34,
     "user": {
      "displayName": "ARUNDHUTI CHAKRABORTY 22MSD7046",
      "userId": "15028378748088300665"
     }
    },
    "outputId": "0885d9f6-23dd-45c6-ff0d-992149d250a9",
    "ExecuteTime": {
     "end_time": "2023-07-19T04:12:06.709223Z",
     "start_time": "2023-07-19T04:12:06.694098Z"
    }
   },
   "execution_count": 36,
   "outputs": [
    {
     "name": "stdout",
     "output_type": "stream",
     "text": [
      "Accuracy: 0.7346938775510204\n"
     ]
    }
   ]
  },
  {
   "cell_type": "code",
   "source": [
    "from sklearn.linear_model import LogisticRegression\n",
    "from sklearn.model_selection import train_test_split\n",
    "from sklearn.metrics import accuracy_score\n",
    "\n",
    "# Create and fit the logistic regression model\n",
    "logreg = LogisticRegression()\n",
    "logreg.fit(x_train, y_train)\n",
    "\n",
    "# Predict on the test set\n",
    "y_pred = logreg.predict(x_test)\n",
    "\n",
    "# Evaluate the accuracy of the model\n",
    "accuracy = accuracy_score(y_test, y_pred)\n",
    "print(\"Accuracy:\", accuracy)\n"
   ],
   "metadata": {
    "colab": {
     "base_uri": "https://localhost:8080/"
    },
    "id": "0J59wFbmLvJl",
    "executionInfo": {
     "status": "ok",
     "timestamp": 1686650167871,
     "user_tz": -330,
     "elapsed": 659,
     "user": {
      "displayName": "ARUNDHUTI CHAKRABORTY 22MSD7046",
      "userId": "15028378748088300665"
     }
    },
    "outputId": "b16d5ed3-f881-43ca-a199-c1c5fc4a517a",
    "ExecuteTime": {
     "end_time": "2023-07-19T04:12:06.748848Z",
     "start_time": "2023-07-19T04:12:06.700231Z"
    }
   },
   "execution_count": 37,
   "outputs": [
    {
     "name": "stdout",
     "output_type": "stream",
     "text": [
      "Accuracy: 0.673469387755102\n"
     ]
    }
   ]
  }
 ]
}
